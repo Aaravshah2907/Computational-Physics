{
 "cells": [
  {
   "metadata": {},
   "cell_type": "markdown",
   "source": "# System of Linear Equations",
   "id": "efa18a38adc0c0f3"
  },
  {
   "metadata": {},
   "cell_type": "markdown",
   "source": "### Import Libraries",
   "id": "6824f3e92463e9e1"
  },
  {
   "cell_type": "code",
   "id": "initial_id",
   "metadata": {
    "collapsed": true,
    "ExecuteTime": {
     "end_time": "2025-09-14T04:17:46.028839Z",
     "start_time": "2025-09-14T04:17:45.605330Z"
    }
   },
   "source": [
    "import numpy\n",
    "import numpy as np\n",
    "import matplotlib.pyplot as plt"
   ],
   "outputs": [],
   "execution_count": 1
  },
  {
   "metadata": {},
   "cell_type": "markdown",
   "source": "",
   "id": "bf72fc0f9cafc9b2"
  },
  {
   "metadata": {
    "ExecuteTime": {
     "end_time": "2025-09-14T04:17:47.829908Z",
     "start_time": "2025-09-14T04:17:47.827430Z"
    }
   },
   "cell_type": "code",
   "source": [
    "# define n*m array by accepting user input and printing it\n",
    "def create_array(n, m):\n",
    "    arr = []\n",
    "    for i in range(n):\n",
    "        row = list(map(float, input(f\"Enter row {i+1} (space-separated {m} values): \").split()))\n",
    "        while len(row) != m:\n",
    "            print(f\"Please enter exactly {m} values.\")\n",
    "            row = list(map(float, input(f\"Enter row {i+1} (space-separated {m} values): \").split()))\n",
    "        arr.append(row)\n",
    "    return np.array(arr)"
   ],
   "id": "4f4dc4cd48305487",
   "outputs": [],
   "execution_count": 2
  },
  {
   "metadata": {
    "ExecuteTime": {
     "end_time": "2025-09-14T04:18:49.834907Z",
     "start_time": "2025-09-14T04:17:51.729349Z"
    }
   },
   "cell_type": "code",
   "source": [
    "# rows = int(input(\"Enter the number of equations (rows): \"))\n",
    "# cols = int(input(\"Enter the number of variables (columns): \"))\n",
    "#print(f\"Creating a {rows}x{cols} matrix.\")\n",
    "#matrix = create_array(rows,cols)\n",
    "matrix = create_array(4,4)"
   ],
   "id": "1721de164277693d",
   "outputs": [],
   "execution_count": 3
  },
  {
   "metadata": {
    "ExecuteTime": {
     "end_time": "2025-09-14T04:18:52.701032Z",
     "start_time": "2025-09-14T04:18:52.698017Z"
    }
   },
   "cell_type": "code",
   "source": [
    "# Forward Elimination\n",
    "def forward_elimination(matrix, arr_b_u):\n",
    "    n = matrix.shape[0]\n",
    "    for k in range(n-1):\n",
    "        for i in range(k+1, n):\n",
    "            m = matrix[i][k] / matrix[k][k]\n",
    "            for j in range(k, n):\n",
    "                matrix[i][j] -= m * matrix[k][j]\n",
    "            arr_b_u[i] -= m * arr_b_u[k]\n",
    "    #print(f\"Matrix after forward elimination: {arr_b_u}\")\n",
    "    return matrix, arr_b_u"
   ],
   "id": "c27016493ff53c5a",
   "outputs": [],
   "execution_count": 4
  },
  {
   "metadata": {
    "ExecuteTime": {
     "end_time": "2025-09-14T04:18:59.496432Z",
     "start_time": "2025-09-14T04:18:59.493187Z"
    }
   },
   "cell_type": "code",
   "source": [
    "# Create a blank array for constants\n",
    "arr_b = np.zeros(matrix.shape[0])\n",
    "\n",
    "# Create an array for x values with dimension of no of columns in matrix\n",
    "arr_x = np.zeros(matrix.shape[1])"
   ],
   "id": "979982f9f69c0093",
   "outputs": [],
   "execution_count": 5
  },
  {
   "metadata": {
    "ExecuteTime": {
     "end_time": "2025-09-14T04:19:10.738577Z",
     "start_time": "2025-09-14T04:19:01.592268Z"
    }
   },
   "cell_type": "code",
   "source": [
    "# Fill the array with user input\n",
    "arr_b = list(map(float, input(f\"Enter the constants array (space-separated {matrix.shape[0]} values): \").split()))\n",
    "while len(arr_b) != matrix.shape[0]:\n",
    "    print(f\"Please enter exactly {matrix.shape[0]} values.\")\n",
    "    arr_b = list(map(float, input(f\"Enter the constants array (space-separated {matrix.shape[0]} values): \").split()))\n",
    "arr_b = np.array(arr_b)"
   ],
   "id": "cad4580e43c1fb41",
   "outputs": [],
   "execution_count": 6
  },
  {
   "metadata": {
    "ExecuteTime": {
     "end_time": "2025-09-14T04:19:12.939869Z",
     "start_time": "2025-09-14T04:19:12.936281Z"
    }
   },
   "cell_type": "code",
   "source": [
    "# Back Substitution\n",
    "def back_substitution(matrix_c, b_arr, x_arr):\n",
    "    n = matrix_c.shape[0]\n",
    "    x_arr[n-1] = b_arr[n-1] / matrix_c[n-1][n-1]\n",
    "    for i in range(n-2, -1, -1):\n",
    "        sum_ax = 0\n",
    "        for j in range(i+1, n):\n",
    "            sum_ax += matrix_c[i][j] * x_arr[j]\n",
    "        x_arr[i] = (b_arr[i] - sum_ax) / matrix_c[i][i]\n",
    "    return x_arr"
   ],
   "id": "edfdb90356b804f1",
   "outputs": [],
   "execution_count": 7
  },
  {
   "metadata": {
    "ExecuteTime": {
     "end_time": "2025-09-14T04:19:14.981852Z",
     "start_time": "2025-09-14T04:19:14.977449Z"
    }
   },
   "cell_type": "code",
   "source": [
    "# Solving the system of equations\n",
    "print(\"Original Matrix:\\n\", matrix)\n",
    "arr_b_Transpose = arr_b.reshape(-1, 1)\n",
    "print(\"Constants array (as column vector):\\n\", arr_b_Transpose)\n",
    "# print(\"Constants array:\", arr_b)\n",
    "print(\"X values array:\", arr_x)\n",
    "upper_matrix, arr_b_changed = forward_elimination(matrix.copy(), arr_b.copy())\n",
    "print(\"Upper Triangular Matrix:\\n\", upper_matrix)\n",
    "arr_b_changed_Transpose = arr_b_changed.reshape(-1, 1)\n",
    "print(\"Modified Constants array (as column vector):\\n\", arr_b_changed_Transpose)\n",
    "#print(\"Modified Constants array:\", arr_b_changed)\n",
    "arr_x = back_substitution(upper_matrix.copy(), arr_b_changed.copy(), arr_x)\n",
    "arr_x_Transpose = arr_x.reshape(-1, 1)\n",
    "print(\"Solution (X values):\", arr_x_Transpose)"
   ],
   "id": "914af50121426985",
   "outputs": [
    {
     "name": "stdout",
     "output_type": "stream",
     "text": [
      "Original Matrix:\n",
      " [[ 4. -1.  0.  0.]\n",
      " [-1.  4. -1.  0.]\n",
      " [ 0. -1.  4. -1.]\n",
      " [ 0.  0. -1.  3.]]\n",
      "Constants array (as column vector):\n",
      " [[ 5.]\n",
      " [ 5.]\n",
      " [10.]\n",
      " [ 5.]]\n",
      "X values array: [0. 0. 0. 0.]\n",
      "Upper Triangular Matrix:\n",
      " [[ 4.         -1.          0.          0.        ]\n",
      " [ 0.          3.75       -1.          0.        ]\n",
      " [ 0.          0.          3.73333333 -1.        ]\n",
      " [ 0.          0.          0.          2.73214286]]\n",
      "Modified Constants array (as column vector):\n",
      " [[ 5.        ]\n",
      " [ 6.25      ]\n",
      " [11.66666667]\n",
      " [ 8.125     ]]\n",
      "Solution (X values): [[1.92810458]\n",
      " [2.7124183 ]\n",
      " [3.92156863]\n",
      " [2.97385621]]\n"
     ]
    }
   ],
   "execution_count": 8
  },
  {
   "metadata": {},
   "cell_type": "markdown",
   "source": "",
   "id": "61696c096f76fc0"
  },
  {
   "metadata": {
    "ExecuteTime": {
     "end_time": "2025-08-28T03:16:06.927778Z",
     "start_time": "2025-08-28T03:16:06.924137Z"
    }
   },
   "cell_type": "code",
   "source": [
    "# Checking the solution\n",
    "def inverse_matrix(matrix_c):\n",
    "    n = matrix_c.shape[0]\n",
    "    identity = np.eye(n)\n",
    "    augmented = np.hstack((matrix_c, identity))\n",
    "\n",
    "    for i in range(n):\n",
    "        # Make the diagonal contain all 1's\n",
    "        diag = augmented[i][i]\n",
    "        for j in range(2*n):\n",
    "            augmented[i][j] /= diag\n",
    "\n",
    "        # Make the other rows contain 0's in the current column\n",
    "        for k in range(n):\n",
    "            if k != i:\n",
    "                factor = augmented[k][i]\n",
    "                for j in range(2*n):\n",
    "                    augmented[k][j] -= factor * augmented[i][j]\n",
    "\n",
    "    inverse = augmented[:, n:]\n",
    "    return inverse"
   ],
   "id": "9b7bd4068265092",
   "outputs": [],
   "execution_count": 92
  },
  {
   "metadata": {
    "ExecuteTime": {
     "end_time": "2025-08-28T03:16:19.037227Z",
     "start_time": "2025-08-28T03:16:19.033825Z"
    }
   },
   "cell_type": "code",
   "source": [
    "arr_x_check = np.dot(inverse_matrix(matrix), arr_b)\n",
    "print(\"Checked Solution (X values):\", arr_x_check)"
   ],
   "id": "705e68c0c886703f",
   "outputs": [
    {
     "name": "stdout",
     "output_type": "stream",
     "text": [
      "Checked Solution (X values): [4.         0.28571429 0.42857143 0.71428571]\n"
     ]
    }
   ],
   "execution_count": 94
  },
  {
   "metadata": {},
   "cell_type": "markdown",
   "source": "## Jacobi Iterative Method",
   "id": "e63297449e2fba56"
  },
  {
   "metadata": {
    "ExecuteTime": {
     "end_time": "2025-09-14T04:38:41.536680Z",
     "start_time": "2025-09-14T04:38:41.531435Z"
    }
   },
   "cell_type": "code",
   "source": [
    "def Jacobi_Iterative_method(A, b, tolerance = 10e-3):\n",
    "    jac_x_old = [b[i]/A[i][i] for i in range(A.shape[0])]\n",
    "    print(\"Jacobi Iterative method:\")\n",
    "    print(\"Initial Guess\")\n",
    "    print(np.array(jac_x_old).reshape(-1, 1))\n",
    "    jac_x_new = [0]*A.shape[0]\n",
    "    res = [0]*A.shape[0]\n",
    "    max_iter = 100\n",
    "    for _ in range(max_iter):\n",
    "        for i in range(A.shape[0]):\n",
    "            sum_m = 0\n",
    "            for j in range(A.shape[1]):\n",
    "                sum_m += A[i][j] * jac_x_old[j]\n",
    "            sum_m -= A[i][i] * jac_x_old[i]\n",
    "            jac_x_new[i] = (b[i] - sum_m)/A[i][i]\n",
    "            res[i] = abs(jac_x_new[i] - jac_x_old[i])\n",
    "        jac_x_old = jac_x_new\n",
    "        print(\"Iteration #\", _+1)\n",
    "        print(np.array(jac_x_old).reshape(-1, 1))\n",
    "        print(\"Residue at #\", _+1)\n",
    "        print(np.array(res).reshape(-1, 1))\n",
    "        if max(res) < tolerance:\n",
    "            print(\"Converged\")\n",
    "            return jac_x_new\n",
    "    print(\"No converged\")\n",
    "    return jac_x_new"
   ],
   "id": "10a6d15104c30132",
   "outputs": [],
   "execution_count": 28
  },
  {
   "metadata": {
    "ExecuteTime": {
     "end_time": "2025-09-14T04:38:43.480105Z",
     "start_time": "2025-09-14T04:38:43.474852Z"
    }
   },
   "cell_type": "code",
   "source": [
    "print(\"Original Matrix:\\n\", matrix)\n",
    "arr_b_Transpose = arr_b.reshape(-1, 1)\n",
    "print(\"Constants array (as column vector):\\n\", arr_b_Transpose)\n",
    "jacobi_x = Jacobi_Iterative_method(matrix, arr_b)\n",
    "print(\"Jacobi Result : \", np.array(jacobi_x).reshape(-1, 1))\n",
    "print(\"Solution (X values):\", arr_x_Transpose)\n",
    "print(\"difference: \", arr_x_Transpose - np.array(jacobi_x).reshape(-1, 1))"
   ],
   "id": "52398b65c8800b41",
   "outputs": [
    {
     "name": "stdout",
     "output_type": "stream",
     "text": [
      "Original Matrix:\n",
      " [[ 4. -1.  0.  0.]\n",
      " [-1.  4. -1.  0.]\n",
      " [ 0. -1.  4. -1.]\n",
      " [ 0.  0. -1.  3.]]\n",
      "Constants array (as column vector):\n",
      " [[ 5.]\n",
      " [ 5.]\n",
      " [10.]\n",
      " [ 5.]]\n",
      "Jacobi Iterative method:\n",
      "Initial Guess\n",
      "[[1.25      ]\n",
      " [1.25      ]\n",
      " [2.5       ]\n",
      " [1.66666667]]\n",
      "Iteration # 1\n",
      "[[1.5625    ]\n",
      " [2.1875    ]\n",
      " [3.22916667]\n",
      " [2.5       ]]\n",
      "Residue at # 1\n",
      "[[0.3125    ]\n",
      " [0.9375    ]\n",
      " [0.72916667]\n",
      " [0.83333333]]\n",
      "Iteration # 2\n",
      "[[1.796875  ]\n",
      " [2.50651042]\n",
      " [3.7516276 ]\n",
      " [2.9172092 ]]\n",
      "Residue at # 2\n",
      "[[0.]\n",
      " [0.]\n",
      " [0.]\n",
      " [0.]]\n",
      "Converged\n",
      "Jacobi Result :  [[1.796875  ]\n",
      " [2.50651042]\n",
      " [3.7516276 ]\n",
      " [2.9172092 ]]\n",
      "Solution (X values): [[1.92810458]\n",
      " [2.7124183 ]\n",
      " [3.92156863]\n",
      " [2.97385621]]\n",
      "difference:  [[0.13122958]\n",
      " [0.20590788]\n",
      " [0.16994102]\n",
      " [0.05664701]]\n"
     ]
    }
   ],
   "execution_count": 29
  },
  {
   "metadata": {},
   "cell_type": "markdown",
   "source": "## Gauss-Seidel Iteration",
   "id": "447c04d75134af80"
  },
  {
   "metadata": {
    "ExecuteTime": {
     "end_time": "2025-09-14T04:48:54.913638Z",
     "start_time": "2025-09-14T04:48:54.907813Z"
    }
   },
   "cell_type": "code",
   "source": [
    "def GS_Iterative_method(A, b, tolerance=1e-5, max_iter=100):\n",
    "    \"\"\"\n",
    "    Solves the system of linear equations Ax = b using the Gauss-Seidel iterative method.\n",
    "\n",
    "    Args:\n",
    "        A (np.ndarray): The coefficient matrix (n x n). Must be diagonally dominant.\n",
    "        b (np.ndarray): The constant vector (n x 1).\n",
    "        tolerance (float): The desired tolerance for convergence.\n",
    "        max_iter (int): The maximum number of iterations to perform.\n",
    "\n",
    "    Returns:\n",
    "        np.ndarray: The solution vector x, or None if it does not converge.\n",
    "    \"\"\"\n",
    "    # Ensure A and b are NumPy arrays for efficient calculations\n",
    "    A = np.array(A, dtype=float)\n",
    "    b = np.array(b, dtype=float)\n",
    "\n",
    "    n = A.shape[0]\n",
    "\n",
    "    # Initialize the solution vector x, typically with zeros\n",
    "    x = np.zeros_like(b, dtype=float)\n",
    "\n",
    "    print(\"Gauss-Seidel Iterative Method\")\n",
    "    print(\"----------------------------\")\n",
    "    print(f\"Initial Guess (x_0):\\n{x.reshape(-1, 1)}\\n\")\n",
    "\n",
    "    # --- Main Iteration Loop ---\n",
    "    for k in range(max_iter):\n",
    "        # Store the old x vector to check for convergence later\n",
    "        x_old = x.copy()\n",
    "\n",
    "        # --- Inner loop to update each component of x ---\n",
    "        for i in range(n):\n",
    "            # Calculate the sum of A[i, j] * x[j] for j != i\n",
    "            # np.dot is efficient for this dot product\n",
    "            sigma = np.dot(A[i, :i], x[:i]) + np.dot(A[i, i+1:], x_old[i+1:])\n",
    "\n",
    "            # Update the i-th component of the solution vector\n",
    "            x[i] = (b[i] - sigma) / A[i, i]\n",
    "\n",
    "        print(f\"Iteration #{k+1}\")\n",
    "        print(f\"{x.reshape(-1, 1)}\\n\")\n",
    "\n",
    "        # --- Convergence Check ---\n",
    "        # Calculate the infinity norm of the difference between the new and old solution\n",
    "        # This checks if the solution has stabilized.\n",
    "        diff_norm = np.linalg.norm(x - x_old, ord=np.inf)\n",
    "\n",
    "        # So this 'if' statement works perfectly!\n",
    "        if diff_norm < tolerance:\n",
    "            print(f\"🎉 Converged after {k+1} iterations!\")\n",
    "            return x\n",
    "\n",
    "    # If the loop finishes without converging\n",
    "    print(f\"Did not converge within {max_iter} iterations.\")\n",
    "    return x\n"
   ],
   "id": "3fd0f179458e8f59",
   "outputs": [],
   "execution_count": 35
  },
  {
   "metadata": {
    "ExecuteTime": {
     "end_time": "2025-09-14T04:49:00.674574Z",
     "start_time": "2025-09-14T04:49:00.667305Z"
    }
   },
   "cell_type": "code",
   "source": [
    "print(\"Original Matrix:\\n\", matrix)\n",
    "arr_b_Transpose = arr_b.reshape(-1, 1)\n",
    "print(\"Constants array (as column vector):\\n\", arr_b_Transpose)\n",
    "GS_x = GS_Iterative_method(matrix, arr_b)\n",
    "print(\"Jacobi Result : \", np.array(GS_x).reshape(-1, 1))\n",
    "print(\"Solution (X values):\", arr_x_Transpose)\n",
    "print(\"difference: \", arr_x_Transpose - np.array(GS_x).reshape(-1, 1))"
   ],
   "id": "9557940aca8110a3",
   "outputs": [
    {
     "name": "stdout",
     "output_type": "stream",
     "text": [
      "Original Matrix:\n",
      " [[ 4. -1.  0.  0.]\n",
      " [-1.  4. -1.  0.]\n",
      " [ 0. -1.  4. -1.]\n",
      " [ 0.  0. -1.  3.]]\n",
      "Constants array (as column vector):\n",
      " [[ 5.]\n",
      " [ 5.]\n",
      " [10.]\n",
      " [ 5.]]\n",
      "Gauss-Seidel Iterative Method\n",
      "----------------------------\n",
      "Initial Guess (x_0):\n",
      "[[0.]\n",
      " [0.]\n",
      " [0.]\n",
      " [0.]]\n",
      "\n",
      "Iteration #1\n",
      "[[1.25      ]\n",
      " [1.5625    ]\n",
      " [2.890625  ]\n",
      " [2.63020833]]\n",
      "\n",
      "Iteration #2\n",
      "[[1.640625  ]\n",
      " [2.3828125 ]\n",
      " [3.75325521]\n",
      " [2.91775174]]\n",
      "\n",
      "Iteration #3\n",
      "[[1.84570312]\n",
      " [2.64973958]\n",
      " [3.89187283]\n",
      " [2.96395761]]\n",
      "\n",
      "Iteration #4\n",
      "[[1.9124349 ]\n",
      " [2.70107693]\n",
      " [3.91625864]\n",
      " [2.97208621]]\n",
      "\n",
      "Iteration #5\n",
      "[[1.92526923]\n",
      " [2.71038197]\n",
      " [3.92061704]\n",
      " [2.97353901]]\n",
      "\n",
      "Iteration #6\n",
      "[[1.92759549]\n",
      " [2.71205313]\n",
      " [3.92139804]\n",
      " [2.97379935]]\n",
      "\n",
      "Iteration #7\n",
      "[[1.92801328]\n",
      " [2.71235283]\n",
      " [3.92153804]\n",
      " [2.97384601]]\n",
      "\n",
      "Iteration #8\n",
      "[[1.92808821]\n",
      " [2.71240656]\n",
      " [3.92156314]\n",
      " [2.97385438]]\n",
      "\n",
      "Iteration #9\n",
      "[[1.92810164]\n",
      " [2.7124162 ]\n",
      " [3.92156764]\n",
      " [2.97385588]]\n",
      "\n",
      "Iteration #10\n",
      "[[1.92810405]\n",
      " [2.71241792]\n",
      " [3.92156845]\n",
      " [2.97385615]]\n",
      "\n",
      "🎉 Converged after 10 iterations!\n",
      "Jacobi Result :  [[1.92810405]\n",
      " [2.71241792]\n",
      " [3.92156845]\n",
      " [2.97385615]]\n",
      "Solution (X values): [[1.92810458]\n",
      " [2.7124183 ]\n",
      " [3.92156863]\n",
      " [2.97385621]]\n",
      "difference:  [[5.26094175e-07]\n",
      " [3.77277596e-07]\n",
      " [1.76237416e-07]\n",
      " [5.87458060e-08]]\n"
     ]
    }
   ],
   "execution_count": 36
  }
 ],
 "metadata": {
  "kernelspec": {
   "display_name": "Python 3",
   "language": "python",
   "name": "python3"
  },
  "language_info": {
   "codemirror_mode": {
    "name": "ipython",
    "version": 2
   },
   "file_extension": ".py",
   "mimetype": "text/x-python",
   "name": "python",
   "nbconvert_exporter": "python",
   "pygments_lexer": "ipython2",
   "version": "2.7.6"
  }
 },
 "nbformat": 4,
 "nbformat_minor": 5
}
