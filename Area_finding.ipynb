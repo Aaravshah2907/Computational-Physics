{
 "cells": [
  {
   "metadata": {},
   "cell_type": "markdown",
   "source": "# Area Finding Methods",
   "id": "f2475f68826e855a"
  },
  {
   "metadata": {},
   "cell_type": "markdown",
   "source": "## Trapezoidal Rule",
   "id": "e5cc633545a41536"
  },
  {
   "metadata": {
    "ExecuteTime": {
     "end_time": "2025-08-22T09:15:23.762188Z",
     "start_time": "2025-08-22T09:15:23.211082Z"
    }
   },
   "cell_type": "code",
   "source": [
    "from math import e, log10\n",
    "import matplotlib.pyplot as plt\n",
    "from scipy.special import roots_legendre\n",
    "from scipy import integrate"
   ],
   "id": "9b9fc929519fc0cf",
   "outputs": [],
   "execution_count": 1
  },
  {
   "metadata": {
    "ExecuteTime": {
     "end_time": "2025-08-22T09:15:30.574121Z",
     "start_time": "2025-08-22T09:15:30.572377Z"
    }
   },
   "cell_type": "code",
   "source": [
    "def f(x):\n",
    "    return e**-x"
   ],
   "id": "d5e8fadc3cb12312",
   "outputs": [],
   "execution_count": 2
  },
  {
   "metadata": {
    "ExecuteTime": {
     "end_time": "2025-08-21T03:17:06.025151Z",
     "start_time": "2025-08-21T03:17:06.020533Z"
    }
   },
   "cell_type": "code",
   "source": [
    "true_val = integrate.quad(f, 1, 5)[0]  # Using scipy to get the true value of the integral\n",
    "error_val = integrate.quad(f, 1, 5)[1]\n",
    "print(f\"True value of the integral from 1 to 5: {true_val}\")\n",
    "print(f\"Error in the true value of the integral from 1 to 5: {error_val}\")"
   ],
   "id": "c632325d5983a9e1",
   "outputs": [
    {
     "name": "stdout",
     "output_type": "stream",
     "text": [
      "True value of the integral from 1 to 5: 0.3611414941723569\n",
      "Error in the true value of the integral from 1 to 5: 4.009476019776825e-15\n"
     ]
    }
   ],
   "execution_count": 51
  },
  {
   "metadata": {
    "ExecuteTime": {
     "end_time": "2025-08-21T02:36:56.038831Z",
     "start_time": "2025-08-21T02:36:56.030932Z"
    }
   },
   "cell_type": "code",
   "source": [
    "# Trapezoidal Rule\n",
    "def trapezoidal_rule(f, a, b, n=1000):\n",
    "    h = (b - a) / n\n",
    "    y_vals = [f(a + i * h) for i in range(n + 1)]\n",
    "    trapezoidal_sum = (sum(y_vals)*2 - y_vals[0] - y_vals[-1]) * h / 2.0\n",
    "    return trapezoidal_sum\n",
    "\n",
    "a, b = 1, 5\n",
    "print(f\"For n = 10 : {trapezoidal_rule(f,1,5,10)}; Error {abs(trapezoidal_rule(f,1,5,10) - true_val)}; Max Error {(b-a)*((b-a)**2)/(12*10**2) * (f(-1))}\")\n",
    "print(f\"For n = 20 : {trapezoidal_rule(f,1,5,20)}; Error {abs(trapezoidal_rule(f,1,5,20) - true_val)}; Max Error {(b-a)*((b-a)**2)/(12*20**2) * (f(-1))}\")\n",
    "print(f\"For n = 40 : {trapezoidal_rule(f,1,5,40)}; Error {abs(trapezoidal_rule(f,1,5,40) - true_val)}; Max Error {(b-a)*((b-a)**2)/(12*40**2) * (f(-1))}\")\n",
    "print(f\"For n = 100 : {trapezoidal_rule(f,1,5,100)}; Error {abs(trapezoidal_rule(f,1,5,100) - true_val)}; Max Error {(b-a)*((b-a)**2)/(12*100**2) * (f(-1))}\")\n"
   ],
   "id": "44f286c0722928b3",
   "outputs": [
    {
     "name": "stdout",
     "output_type": "stream",
     "text": [
      "For n = 10 : 0.3659439222298367; Error 0.004802428059836661; Max Error 0.14497503085114907\n",
      "For n = 20 : 0.36234449737983476; Error 0.001203003209834741; Max Error 0.03624375771278727\n",
      "For n = 40 : 0.36144239527089916; Error 0.00030090110089914246; Max Error 0.009060939428196817\n",
      "For n = 100 : 0.3611896450875702; Error 4.815091757015555e-05; Max Error 0.0014497503085114907\n"
     ]
    }
   ],
   "execution_count": 5
  },
  {
   "metadata": {},
   "cell_type": "markdown",
   "source": "## $$\\text{Simpson's} \\frac{1}{3} \\text{Rule}$$",
   "id": "e62c13cfd663984e"
  },
  {
   "metadata": {
    "ExecuteTime": {
     "end_time": "2025-08-21T03:14:52.060823Z",
     "start_time": "2025-08-21T03:14:52.055939Z"
    }
   },
   "cell_type": "code",
   "source": [
    "# Simpson's 1/3 Rule\n",
    "def simpsons_one_third_rule(f, a, b, n=1000):\n",
    "    if n % 2 == 1:\n",
    "        n += 1  # n must be even\n",
    "    h = (b - a) / n\n",
    "    y_vals = [f(a + i * h) for i in range(n + 1)]\n",
    "    simpson_sum = (y_vals[0] + y_vals[-1] + 4 * sum(y_vals[i] for i in range(1, n, 2)) +\n",
    "                   2 * sum(y_vals[i] for i in range(2, n - 1, 2))) * h / 3.0\n",
    "    return simpson_sum\n",
    "\n",
    "\"\"\"\n",
    "print(f\"For n = 10 : {simpsons_one_third_rule(f,1,5,10)}; Error {abs(simpsons_one_third_rule(f,1,5,10) - true_val)}; MaxError {-1*f(-1)*((b-a)**5)/(180*10**4)}\")\n",
    "print(f\"For n = 20 : {simpsons_one_third_rule(f,1,5,20)}; Error {abs(simpsons_one_third_rule(f,1,5,20) - true_val)}; MaxError {-1*f(-1)*((b-a)**5)/(180*20**4)}\")\n",
    "print(f\"For n = 40 : {simpsons_one_third_rule(f,1,5,40)}; Error {abs(simpsons_one_third_rule(f,1,5,40) - true_val)}; MaxError {-1*f(-1)*((b-a)**5)/(180*40**4)}\")\n",
    "print(f\"For n = 100 : {simpsons_one_third_rule(f,1,5,100)}; Error {abs(simpsons_one_third_rule(f,1,5,100) - true_val)}; MaxError {-1*f(-1)*((b-a)**5)/(180*100**4)}\")\n",
    "\"\"\"\n",
    "\n",
    "def simpsons_one_third_plot(a:int, b:int):\n",
    "    results = []\n",
    "    for n in range(1, 1000, 1):\n",
    "        result = simpsons_one_third_rule(f, a, b, n)\n",
    "        h = (b - a) / n\n",
    "        error = log10(abs(result - true_val))\n",
    "        results.append((log10(h), error))\n",
    "\n",
    "    plt.figure(figsize=(10, 5))\n",
    "    plt.plot(*zip(*results), marker='o')\n",
    "    plt.title(\"Simpson's 1/3 Rule Error Convergence\")\n",
    "    plt.xlabel('log10(h)')\n",
    "    plt.ylabel('log10(Error)')\n",
    "    plt.grid(True)\n",
    "    plt.show()"
   ],
   "id": "5655d62c3304cbf7",
   "outputs": [],
   "execution_count": 45
  },
  {
   "metadata": {
    "ExecuteTime": {
     "end_time": "2025-08-21T03:14:55.199222Z",
     "start_time": "2025-08-21T03:14:55.099828Z"
    }
   },
   "cell_type": "code",
   "source": "    simpsons_one_third_plot(1,5)",
   "id": "553597a57a3d1ef6",
   "outputs": [
    {
     "data": {
      "text/plain": [
       "<Figure size 1000x500 with 1 Axes>"
      ],
      "image/png": "[encoded data removed]"
     },
     "metadata": {},
     "output_type": "display_data"
    }
   ],
   "execution_count": 46
  },
  {
   "metadata": {},
   "cell_type": "markdown",
   "source": "## Gausiian Legendre Quadrature",
   "id": "7ec1549fa8f0abdc"
  },
  {
   "metadata": {
    "ExecuteTime": {
     "end_time": "2025-08-22T09:15:48.145338Z",
     "start_time": "2025-08-22T09:15:48.142941Z"
    }
   },
   "cell_type": "code",
   "source": [
    "# Write a script to export roots of Legendre polynomials and weights for Gaussian quadrature of degree n\n",
    "def gaussian_quadrature_weights_and_roots(n):\n",
    "    roots, weights = roots_legendre(n)\n",
    "    return roots, weights"
   ],
   "id": "a811c25c9ecff0f",
   "outputs": [],
   "execution_count": 3
  },
  {
   "metadata": {
    "ExecuteTime": {
     "end_time": "2025-08-22T09:15:49.738951Z",
     "start_time": "2025-08-22T09:15:49.734210Z"
    }
   },
   "cell_type": "code",
   "source": [
    "def xi(t:float, a:float, b:float) :\n",
    "    return (b - a) / 2 * t + (b + a) / 2\n",
    "\n",
    "def weight(t:float, a:float, b:float) :\n",
    "    return (b - a) / 2 * t\n",
    "\n",
    "def gaussian_legendre_quadrature(f, lower_limit, upper_limit,n=5):\n",
    "    ti, wi = gaussian_quadrature_weights_and_roots(n)  # Using 5-point Gaussian quadrature\n",
    "    xi_vals = [xi(t, lower_limit, upper_limit) for t in ti]\n",
    "    weights_adjusted = [weight(t, lower_limit, upper_limit) for t in wi]\n",
    "    integral = sum(f(x) * w for x, w in zip(xi_vals, weights_adjusted))\n",
    "    return integral\n",
    "\n",
    "def gaussian_legendre_plot():\n",
    "    results = []\n",
    "    for n in range(0, 10, 1):\n",
    "        result = gaussian_legendre_quadrature(f, 1, 5, n+1)  # Known value for the integral from 1 to 5\n",
    "        if abs(result-true_val):\n",
    "            error = log10(abs(result - true_val))\n",
    "            results.append((n+1, error))\n",
    "\n",
    "    plt.figure(figsize=(10, 5))\n",
    "    plt.plot(*zip(*results), marker='o')\n",
    "    plt.title(\"Gaussian Legendre Quadrature Error Convergence\")\n",
    "    plt.xlabel('n (Number of Points)')\n",
    "    plt.ylabel('log10(Error)')\n",
    "    plt.grid(True)\n",
    "    plt.show()"
   ],
   "id": "1d01bce7a901e605",
   "outputs": [],
   "execution_count": 4
  },
  {
   "metadata": {},
   "cell_type": "markdown",
   "source": "",
   "id": "c1a07031f3c2e76a"
  },
  {
   "metadata": {
    "ExecuteTime": {
     "end_time": "2025-08-22T09:15:54.333218Z",
     "start_time": "2025-08-22T09:15:52.620450Z"
    }
   },
   "cell_type": "code",
   "source": [
    "print(f\"Gaussian Legendre Quadrature: {gaussian_legendre_quadrature(f, 2, 7, n =10000)}\") # Error {abs(gaussian_legendre_quadrature(f, 1, 5, n= 1000) - true_val)}\")\n",
    "# gaussian_legendre_plot()"
   ],
   "id": "a127d1cf7f69208",
   "outputs": [
    {
     "name": "stdout",
     "output_type": "stream",
     "text": [
      "Gaussian Legendre Quadrature: 0.13442340127097147\n"
     ]
    }
   ],
   "execution_count": 5
  },
  {
   "metadata": {},
   "cell_type": "code",
   "outputs": [],
   "execution_count": null,
   "source": [
    "print(f\"Gaussian Legendre Quadrature: {gaussian_legendre_quadrature(f, 2, 7, n =10000)}\") # Error {abs(gaussian_legendre_quadrature(f, 1, 5, n= 1000) - true_val)}\")\n",
    "# gaussian_legendre_plot()"
   ],
   "id": "94f64e43df869a3f"
  }
 ],
 "metadata": {
  "kernelspec": {
   "name": "python3",
   "language": "python",
   "display_name": "Python 3 (ipykernel)"
  }
 },
 "nbformat": 4,
 "nbformat_minor": 5
}
