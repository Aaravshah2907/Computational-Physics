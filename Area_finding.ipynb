{
 "cells": [
  {
   "metadata": {},
   "cell_type": "markdown",
   "source": "# Area Finding Methods",
   "id": "f2475f68826e855a"
  },
  {
   "metadata": {},
   "cell_type": "markdown",
   "source": "## Trapezoidal Rule",
   "id": "e5cc633545a41536"
  },
  {
   "metadata": {
    "ExecuteTime": {
     "end_time": "2025-08-14T03:20:24.977934Z",
     "start_time": "2025-08-14T03:20:24.975648Z"
    }
   },
   "cell_type": "code",
   "source": "from math import e",
   "id": "9b9fc929519fc0cf",
   "outputs": [],
   "execution_count": 17
  },
  {
   "metadata": {
    "ExecuteTime": {
     "end_time": "2025-08-14T03:20:27.358071Z",
     "start_time": "2025-08-14T03:20:27.354867Z"
    }
   },
   "cell_type": "code",
   "source": [
    "def f(x):\n",
    "    return e**-x"
   ],
   "id": "d5e8fadc3cb12312",
   "outputs": [],
   "execution_count": 18
  },
  {
   "metadata": {
    "ExecuteTime": {
     "end_time": "2025-08-14T03:20:29.512316Z",
     "start_time": "2025-08-14T03:20:29.505615Z"
    }
   },
   "cell_type": "code",
   "source": [
    "# Trapezoidal Rule\n",
    "def trapezoidal_rule(f, a, b, n=1000):\n",
    "    h = (b - a) / n\n",
    "    y_vals = [f(a + i * h) for i in range(n + 1)]\n",
    "    trapezoidal_sum = (sum(y_vals)*2 - y_vals[0] - y_vals[-1]) * h / 2.0\n",
    "    return trapezoidal_sum\n",
    "\n",
    "true_val = 0.36114149417\n",
    "a, b = 1, 5\n",
    "print(f\"For n = 10 : {trapezoidal_rule(f,1,5,10)}; Error {abs(trapezoidal_rule(f,1,5,10) - true_val)}; Max Error {(b-a)*((b-a)**2)/(12*10**2) * (f(-1))}\")\n",
    "print(f\"For n = 20 : {trapezoidal_rule(f,1,5,20)}; Error {abs(trapezoidal_rule(f,1,5,20) - true_val)}; Max Error {(b-a)*((b-a)**2)/(12*20**2) * (f(-1))}\")\n",
    "print(f\"For n = 40 : {trapezoidal_rule(f,1,5,40)}; Error {abs(trapezoidal_rule(f,1,5,40) - true_val)}; Max Error {(b-a)*((b-a)**2)/(12*40**2) * (f(-1))}\")\n",
    "print(f\"For n = 100 : {trapezoidal_rule(f,1,5,100)}; Error {abs(trapezoidal_rule(f,1,5,100) - true_val)}; Max Error {(b-a)*((b-a)**2)/(12*100**2) * (f(-1))}\")\n"
   ],
   "id": "44f286c0722928b3",
   "outputs": [
    {
     "name": "stdout",
     "output_type": "stream",
     "text": [
      "For n = 10 : 0.3659439222298367; Error 0.004802428059836661; Max Error 0.14497503085114907\n",
      "For n = 20 : 0.36234449737983476; Error 0.001203003209834741; Max Error 0.03624375771278727\n",
      "For n = 40 : 0.36144239527089916; Error 0.00030090110089914246; Max Error 0.009060939428196817\n",
      "For n = 100 : 0.3611896450875702; Error 4.815091757015555e-05; Max Error 0.0014497503085114907\n"
     ]
    }
   ],
   "execution_count": 19
  },
  {
   "metadata": {},
   "cell_type": "markdown",
   "source": "## $$\\text{Simpson's} \\frac{1}{3} \\text{Rule}$$",
   "id": "e62c13cfd663984e"
  },
  {
   "metadata": {
    "ExecuteTime": {
     "end_time": "2025-08-14T03:20:32.147305Z",
     "start_time": "2025-08-14T03:20:32.141273Z"
    }
   },
   "cell_type": "code",
   "source": [
    "# Simpson's 1/3 Rule\n",
    "def simpsons_one_third_rule(f, a, b, n=1000):\n",
    "    if n % 2 == 1:\n",
    "        n += 1  # n must be even\n",
    "    h = (b - a) / n\n",
    "    y_vals = [f(a + i * h) for i in range(n + 1)]\n",
    "    simpson_sum = (y_vals[0] + y_vals[-1] + 4 * sum(y_vals[i] for i in range(1, n, 2)) +\n",
    "                   2 * sum(y_vals[i] for i in range(2, n - 1, 2))) * h / 3.0\n",
    "    return simpson_sum\n",
    "\n",
    "\n",
    "print(f\"For n = 10 : {simpsons_one_third_rule(f,1,5,10)}; Error {abs(simpsons_one_third_rule(f,1,5,10) - true_val)}; MaxError {-1*f(-1)*((b-a)**5)/(180*10**4)}\")\n",
    "print(f\"For n = 20 : {simpsons_one_third_rule(f,1,5,20)}; Error {abs(simpsons_one_third_rule(f,1,5,20) - true_val)}; MaxError {-1*f(-1)*((b-a)**5)/(180*20**4)}\")\n",
    "print(f\"For n = 40 : {simpsons_one_third_rule(f,1,5,40)}; Error {abs(simpsons_one_third_rule(f,1,5,40) - true_val)}; MaxError {-1*f(-1)*((b-a)**5)/(180*40**4)}\")\n",
    "print(f\"For n = 100 : {simpsons_one_third_rule(f,1,5,100)}; Error {abs(simpsons_one_third_rule(f,1,5,100) - true_val)}; MaxError {-1*f(-1)*((b-a)**5)/(180*100**4)}\")"
   ],
   "id": "e4e061fd18d3dd88",
   "outputs": [
    {
     "name": "stdout",
     "output_type": "stream",
     "text": [
      "For n = 10 : 0.3611918943592521; Error 5.0400189252064465e-05; MaxError -0.0015464003290789235\n",
      "For n = 20 : 0.3611446890965008; Error 3.1949265008046623e-06; MaxError -9.665002056743272e-05\n",
      "For n = 40 : 0.36114169456792067; Error 2.003979206466333e-07; MaxError -6.040626285464545e-06\n",
      "For n = 100 : 0.36114149930761325; Error 5.137613223737958e-09; MaxError -1.5464003290789234e-07\n"
     ]
    }
   ],
   "execution_count": 20
  }
 ],
 "metadata": {},
 "nbformat": 4,
 "nbformat_minor": 5
}
